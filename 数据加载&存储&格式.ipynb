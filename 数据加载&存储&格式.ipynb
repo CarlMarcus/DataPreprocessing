{
 "cells": [
  {
   "cell_type": "markdown",
   "metadata": {},
   "source": [
    "# 01.读写文本数据\n",
    "pandas提供了一些用于将表格型数据读取为DataFrame对象的函数，如下。\n",
    "![](https://upload-images.jianshu.io/upload_images/7178691-958f849e6067b19b.png?imageMogr2/auto-orient/)  \n",
    "这些函数的选项可以划分为以下几个大类：\n",
    "- 索引：将一个或多个列当做返回的DataFrame处理，以及是否从文件、用户获取列名\n",
    "- 类型推断和数据转换：包括用户定义值的转换、和自定义的缺失值标记列表等\n",
    "- 日期解析：包括组合功能，比如将分散在多个列中的日期时间信息组合成结果中的单个列\n",
    "- 迭代：支持对大文件进行逐块迭代\n",
    "- 不规整数据问题：跳过一些行、页脚、注释或其他一些不重要的东西（比如由成千上万个逗号隔开的数值数据）"
   ]
  },
  {
   "cell_type": "code",
   "execution_count": null,
   "metadata": {
    "collapsed": true
   },
   "outputs": [],
   "source": []
  }
 ],
 "metadata": {
  "kernelspec": {
   "display_name": "Python [conda env:Anaconda3_64]",
   "language": "python",
   "name": "conda-env-Anaconda3_64-py"
  },
  "language_info": {
   "codemirror_mode": {
    "name": "ipython",
    "version": 3
   },
   "file_extension": ".py",
   "mimetype": "text/x-python",
   "name": "python",
   "nbconvert_exporter": "python",
   "pygments_lexer": "ipython3",
   "version": "3.6.2"
  }
 },
 "nbformat": 4,
 "nbformat_minor": 2
}
